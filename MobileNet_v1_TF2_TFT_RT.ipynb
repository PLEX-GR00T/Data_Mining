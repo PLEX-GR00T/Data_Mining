{
  "nbformat": 4,
  "nbformat_minor": 0,
  "metadata": {
    "colab": {
      "name": "MobileNet_v1_TF2_TFT-RT.ipynb",
      "provenance": [],
      "collapsed_sections": [],
      "include_colab_link": true
    },
    "kernelspec": {
      "name": "python3",
      "display_name": "Python 3"
    },
    "language_info": {
      "name": "python"
    },
    "accelerator": "GPU"
  },
  "cells": [
    {
      "cell_type": "markdown",
      "metadata": {
        "id": "view-in-github",
        "colab_type": "text"
      },
      "source": [
        "<a href=\"https://colab.research.google.com/github/PLEX-GR00T/Data_Mining/blob/main/MobileNet_v1_TF2_TFT_RT.ipynb\" target=\"_parent\"><img src=\"https://colab.research.google.com/assets/colab-badge.svg\" alt=\"Open In Colab\"/></a>"
      ]
    },
    {
      "cell_type": "markdown",
      "source": [
        "# pip installs and imports"
      ],
      "metadata": {
        "id": "tox5X-00GKkH"
      }
    },
    {
      "cell_type": "code",
      "execution_count": null,
      "metadata": {
        "colab": {
          "base_uri": "https://localhost:8080/"
        },
        "id": "_qgUInJQBlzb",
        "outputId": "02228dac-68bc-47a7-ffc7-65fe874fdbfe"
      },
      "outputs": [
        {
          "output_type": "stream",
          "name": "stdout",
          "text": [
            "Sun May 22 18:01:40 2022       \n",
            "+-----------------------------------------------------------------------------+\n",
            "| NVIDIA-SMI 460.32.03    Driver Version: 460.32.03    CUDA Version: 11.2     |\n",
            "|-------------------------------+----------------------+----------------------+\n",
            "| GPU  Name        Persistence-M| Bus-Id        Disp.A | Volatile Uncorr. ECC |\n",
            "| Fan  Temp  Perf  Pwr:Usage/Cap|         Memory-Usage | GPU-Util  Compute M. |\n",
            "|                               |                      |               MIG M. |\n",
            "|===============================+======================+======================|\n",
            "|   0  Tesla P100-PCIE...  Off  | 00000000:00:04.0 Off |                    0 |\n",
            "| N/A   39C    P0    27W / 250W |      0MiB / 16280MiB |      0%      Default |\n",
            "|                               |                      |                  N/A |\n",
            "+-------------------------------+----------------------+----------------------+\n",
            "                                                                               \n",
            "+-----------------------------------------------------------------------------+\n",
            "| Processes:                                                                  |\n",
            "|  GPU   GI   CI        PID   Type   Process name                  GPU Memory |\n",
            "|        ID   ID                                                   Usage      |\n",
            "|=============================================================================|\n",
            "|  No running processes found                                                 |\n",
            "+-----------------------------------------------------------------------------+\n",
            "/content\n"
          ]
        }
      ],
      "source": [
        "!nvidia-smi\n",
        "%cd /content"
      ]
    },
    {
      "cell_type": "code",
      "source": [
        "!pip install pillow matplotlib\n",
        "!pip install tensorflow-gpu==2.0.0"
      ],
      "metadata": {
        "id": "3RCHiezjEtVe"
      },
      "execution_count": null,
      "outputs": []
    },
    {
      "cell_type": "code",
      "source": [
        "from __future__ import absolute_import, division, print_function, unicode_literals\n",
        "\n",
        "import matplotlib.pylab as plt\n",
        "import tensorflow as tf\n",
        "import tensorflow_hub as hub\n",
        "import numpy as np"
      ],
      "metadata": {
        "id": "CFzgjS8HEwjS"
      },
      "execution_count": null,
      "outputs": []
    },
    {
      "cell_type": "code",
      "source": [
        "print(\"Version: \", tf.__version__)\n",
        "print(\"Hub version: \", hub.__version__)\n",
        "print(\"Eager mode: \", tf.executing_eagerly())\n",
        "print(\"GPU is\", \"available\" if tf.test.is_gpu_available() else \"NOT AVAILABLE\")"
      ],
      "metadata": {
        "colab": {
          "base_uri": "https://localhost:8080/"
        },
        "id": "hPp-vFcaF_1h",
        "outputId": "32064df8-51e8-415a-d2fc-65f4834bb22f"
      },
      "execution_count": null,
      "outputs": [
        {
          "output_type": "stream",
          "name": "stdout",
          "text": [
            "Version:  2.0.0\n",
            "Hub version:  0.12.0\n",
            "Eager mode:  True\n",
            "GPU is available\n"
          ]
        }
      ]
    },
    {
      "cell_type": "code",
      "source": [
        "import pandas as pd\n",
        "\n",
        "# Increase precision of presented data for better side-by-side comparison\n",
        "pd.set_option(\"display.precision\", 8)"
      ],
      "metadata": {
        "id": "aO8lwVefGC0Q"
      },
      "execution_count": null,
      "outputs": []
    },
    {
      "cell_type": "code",
      "source": [
        "import tensorflow as tf\n",
        "print(\"Tensorflow version: \", tf.version.VERSION)"
      ],
      "metadata": {
        "colab": {
          "base_uri": "https://localhost:8080/"
        },
        "id": "lqYCx4MCGFgt",
        "outputId": "d48edd4f-3935-4e27-b2ad-45ec3cedb630"
      },
      "execution_count": null,
      "outputs": [
        {
          "output_type": "stream",
          "name": "stdout",
          "text": [
            "Tensorflow version:  2.0.0\n"
          ]
        }
      ]
    },
    {
      "cell_type": "markdown",
      "source": [
        "# Load Data"
      ],
      "metadata": {
        "id": "ICs_ObULGkAR"
      }
    },
    {
      "cell_type": "code",
      "source": [
        "!pip install kaggle"
      ],
      "metadata": {
        "id": "rEklqXstGHWS"
      },
      "execution_count": null,
      "outputs": []
    },
    {
      "cell_type": "code",
      "source": [
        "from google.colab import drive\n",
        "drive.mount('/content/drive')"
      ],
      "metadata": {
        "colab": {
          "base_uri": "https://localhost:8080/"
        },
        "id": "FR7JSoqPqBYH",
        "outputId": "6c3591c3-704c-4819-ce00-9ca4de2ebe57"
      },
      "execution_count": null,
      "outputs": [
        {
          "output_type": "stream",
          "name": "stdout",
          "text": [
            "Drive already mounted at /content/drive; to attempt to forcibly remount, call drive.mount(\"/content/drive\", force_remount=True).\n"
          ]
        }
      ]
    },
    {
      "cell_type": "code",
      "source": [
        "!mkdir /content/drive/MyDrive/kaggle"
      ],
      "metadata": {
        "colab": {
          "base_uri": "https://localhost:8080/"
        },
        "id": "PR8OVi1OGo_y",
        "outputId": "6c4d3c98-3b8c-4c19-9bcd-b7dacb1fa403"
      },
      "execution_count": null,
      "outputs": [
        {
          "output_type": "stream",
          "name": "stdout",
          "text": [
            "mkdir: cannot create directory ‘/content/drive/MyDrive/kaggle’: File exists\n"
          ]
        }
      ]
    },
    {
      "cell_type": "code",
      "source": [
        "!ls /content/drive/MyDrive/kaggle"
      ],
      "metadata": {
        "colab": {
          "base_uri": "https://localhost:8080/"
        },
        "id": "dVpAKEcnG786",
        "outputId": "83430994-ce91-4257-9b7c-54ed44a228cd"
      },
      "execution_count": null,
      "outputs": [
        {
          "output_type": "stream",
          "name": "stdout",
          "text": [
            "kaggle.json\n"
          ]
        }
      ]
    },
    {
      "cell_type": "code",
      "source": [
        "import os\n",
        "os.environ['KAGGLE_CONFIG_DIR'] = \"/content/drive/MyDrive/kaggle\""
      ],
      "metadata": {
        "id": "2G-0UWcuH0XK"
      },
      "execution_count": null,
      "outputs": []
    },
    {
      "cell_type": "code",
      "source": [
        "%cd /content/drive/MyDrive/kaggle"
      ],
      "metadata": {
        "colab": {
          "base_uri": "https://localhost:8080/"
        },
        "id": "s3CUCHYYH4Z_",
        "outputId": "1fcaacc0-463e-441a-d90f-90481dddb967"
      },
      "execution_count": null,
      "outputs": [
        {
          "output_type": "stream",
          "name": "stdout",
          "text": [
            "/content/drive/MyDrive/kaggle\n"
          ]
        }
      ]
    },
    {
      "cell_type": "markdown",
      "source": [
        "# Load the data"
      ],
      "metadata": {
        "id": "T80GFLpcH7Ru"
      }
    },
    {
      "cell_type": "code",
      "source": [
        "!kaggle datasets download -d meowmeowmeowmeowmeow/gtsrb-german-traffic-sign"
      ],
      "metadata": {
        "colab": {
          "base_uri": "https://localhost:8080/"
        },
        "id": "oZBFuXK6H6tT",
        "outputId": "bc7f8c84-0771-43df-a256-24418fcd4d79"
      },
      "execution_count": null,
      "outputs": [
        {
          "output_type": "stream",
          "name": "stdout",
          "text": [
            "gtsrb-german-traffic-sign.zip: Skipping, found more recently modified local copy (use --force to force download)\n"
          ]
        }
      ]
    },
    {
      "cell_type": "code",
      "source": [
        "%ls"
      ],
      "metadata": {
        "colab": {
          "base_uri": "https://localhost:8080/"
        },
        "id": "t-j7wBPwH_pt",
        "outputId": "357bbdae-c394-4267-f776-65fe1022fdc4"
      },
      "execution_count": null,
      "outputs": [
        {
          "output_type": "stream",
          "name": "stdout",
          "text": [
            "kaggle.json\n"
          ]
        }
      ]
    },
    {
      "cell_type": "code",
      "source": [
        "!kaggle config set -n path -v /content"
      ],
      "metadata": {
        "colab": {
          "base_uri": "https://localhost:8080/"
        },
        "id": "oodR_zC2IIOn",
        "outputId": "36f45038-8eb2-472c-978a-fc1fc1043b42"
      },
      "execution_count": null,
      "outputs": [
        {
          "output_type": "stream",
          "name": "stdout",
          "text": [
            "- path is now set to: /content\n"
          ]
        }
      ]
    },
    {
      "cell_type": "code",
      "source": [
        "!kaggle config view #View current config values"
      ],
      "metadata": {
        "colab": {
          "base_uri": "https://localhost:8080/"
        },
        "id": "aGyoXPLjIGJ-",
        "outputId": "e3b4384a-ac66-40f6-8428-5ae7208614b3"
      },
      "execution_count": null,
      "outputs": [
        {
          "output_type": "stream",
          "name": "stdout",
          "text": [
            "Configuration values from /content/drive/MyDrive/kaggle\n",
            "- username: gr00t16\n",
            "- path: /content\n",
            "- proxy: None\n",
            "- competition: None\n"
          ]
        }
      ]
    },
    {
      "cell_type": "code",
      "source": [
        "%cd /content/datasets/meowmeowmeowmeowmeow/gtsrb-german-traffic-sign"
      ],
      "metadata": {
        "colab": {
          "base_uri": "https://localhost:8080/"
        },
        "id": "3zuw5X-Br7kk",
        "outputId": "77137481-8a23-49fb-c48f-623f53dfb294"
      },
      "execution_count": null,
      "outputs": [
        {
          "output_type": "stream",
          "name": "stdout",
          "text": [
            "/content/datasets/meowmeowmeowmeowmeow/gtsrb-german-traffic-sign\n"
          ]
        }
      ]
    },
    {
      "cell_type": "code",
      "source": [
        "!unzip -qq gtsrb-german-traffic-sign.zip"
      ],
      "metadata": {
        "id": "DttAV7nmIjCc"
      },
      "execution_count": null,
      "outputs": []
    },
    {
      "cell_type": "code",
      "source": [
        "# !cp -R gtsrb-german-traffic-sign /content/datasets/meowmeowmeowmeowmeow/gtsrb-german-traffic-sign"
      ],
      "metadata": {
        "id": "aBi9E6RRSYba"
      },
      "execution_count": null,
      "outputs": []
    },
    {
      "cell_type": "code",
      "source": [
        "#changing the working directory\n",
        "%cd /content/datasets/meowmeowmeowmeowmeow/gtsrb-german-traffic-sign\n",
        "!pwd\n",
        "!ls"
      ],
      "metadata": {
        "colab": {
          "base_uri": "https://localhost:8080/"
        },
        "id": "8GNY0j0tIJeV",
        "outputId": "86225b19-22a6-420b-f256-afee367e5e08"
      },
      "execution_count": null,
      "outputs": [
        {
          "output_type": "stream",
          "name": "stdout",
          "text": [
            "/content/datasets/meowmeowmeowmeowmeow/gtsrb-german-traffic-sign\n",
            "/content/datasets/meowmeowmeowmeowmeow/gtsrb-german-traffic-sign\n",
            "gtsrb-german-traffic-sign.zip\t\t\t\t     test\n",
            "meta\t\t\t\t\t\t\t     Test\n",
            "Meta\t\t\t\t\t\t\t     Test.csv\n",
            "Meta.csv\t\t\t\t\t\t     train\n",
            "model_TF2\t\t\t\t\t\t     Train\n",
            "nvidia-machine-learning-repo-ubuntu1804_1.0.0-1_amd64.deb    Train.csv\n",
            "nvidia-machine-learning-repo-ubuntu1804_1.0.0-1_amd64.deb.1  training_1\n"
          ]
        }
      ]
    },
    {
      "cell_type": "code",
      "source": [
        "%ls"
      ],
      "metadata": {
        "colab": {
          "base_uri": "https://localhost:8080/"
        },
        "id": "QT7bOlC3nB2Y",
        "outputId": "516f17d7-2af1-4be6-b6a7-19e5357c717f"
      },
      "execution_count": null,
      "outputs": [
        {
          "output_type": "stream",
          "name": "stdout",
          "text": [
            "gtsrb-german-traffic-sign.zip                                \u001b[0m\u001b[01;34mtest\u001b[0m/\n",
            "\u001b[01;34mmeta\u001b[0m/                                                        \u001b[01;34mTest\u001b[0m/\n",
            "\u001b[01;34mMeta\u001b[0m/                                                        Test.csv\n",
            "Meta.csv                                                     \u001b[01;34mtrain\u001b[0m/\n",
            "\u001b[01;34mmodel_TF2\u001b[0m/                                                   \u001b[01;34mTrain\u001b[0m/\n",
            "nvidia-machine-learning-repo-ubuntu1804_1.0.0-1_amd64.deb    Train.csv\n",
            "nvidia-machine-learning-repo-ubuntu1804_1.0.0-1_amd64.deb.1  \u001b[01;34mtraining_1\u001b[0m/\n"
          ]
        }
      ]
    },
    {
      "cell_type": "code",
      "source": [
        "os.chdir('/content/datasets/meowmeowmeowmeowmeow/gtsrb-german-traffic-sign/')\n",
        "%ls"
      ],
      "metadata": {
        "colab": {
          "base_uri": "https://localhost:8080/"
        },
        "id": "lN8hHZBUnTwk",
        "outputId": "09810c7a-1a5b-4f03-f7fd-d5c458f8a0b3"
      },
      "execution_count": null,
      "outputs": [
        {
          "output_type": "stream",
          "name": "stdout",
          "text": [
            "gtsrb-german-traffic-sign.zip                                \u001b[0m\u001b[01;34mtest\u001b[0m/\n",
            "\u001b[01;34mmeta\u001b[0m/                                                        \u001b[01;34mTest\u001b[0m/\n",
            "\u001b[01;34mMeta\u001b[0m/                                                        Test.csv\n",
            "Meta.csv                                                     \u001b[01;34mtrain\u001b[0m/\n",
            "\u001b[01;34mmodel_TF2\u001b[0m/                                                   \u001b[01;34mTrain\u001b[0m/\n",
            "nvidia-machine-learning-repo-ubuntu1804_1.0.0-1_amd64.deb    Train.csv\n",
            "nvidia-machine-learning-repo-ubuntu1804_1.0.0-1_amd64.deb.1  \u001b[01;34mtraining_1\u001b[0m/\n"
          ]
        }
      ]
    },
    {
      "cell_type": "code",
      "source": [
        "train_df = pd.read_csv('Train.csv')\n",
        "# display a sneak peek of the data\n",
        "train_df.head()"
      ],
      "metadata": {
        "colab": {
          "base_uri": "https://localhost:8080/",
          "height": 206
        },
        "id": "RLhWasI2udCS",
        "outputId": "82d5dba1-c098-4512-e4e1-4436262092b9"
      },
      "execution_count": null,
      "outputs": [
        {
          "output_type": "execute_result",
          "data": {
            "text/plain": [
              "   Width  Height  Roi.X1  Roi.Y1  Roi.X2  Roi.Y2  ClassId  \\\n",
              "0     27      26       5       5      22      20       20   \n",
              "1     28      27       5       6      23      22       20   \n",
              "2     29      26       6       5      24      21       20   \n",
              "3     28      27       5       6      23      22       20   \n",
              "4     28      26       5       5      23      21       20   \n",
              "\n",
              "                             Path  \n",
              "0  Train/20/00020_00000_00000.png  \n",
              "1  Train/20/00020_00000_00001.png  \n",
              "2  Train/20/00020_00000_00002.png  \n",
              "3  Train/20/00020_00000_00003.png  \n",
              "4  Train/20/00020_00000_00004.png  "
            ],
            "text/html": [
              "\n",
              "  <div id=\"df-9eee32d0-23b4-48d9-a09c-843ed74b8485\">\n",
              "    <div class=\"colab-df-container\">\n",
              "      <div>\n",
              "<style scoped>\n",
              "    .dataframe tbody tr th:only-of-type {\n",
              "        vertical-align: middle;\n",
              "    }\n",
              "\n",
              "    .dataframe tbody tr th {\n",
              "        vertical-align: top;\n",
              "    }\n",
              "\n",
              "    .dataframe thead th {\n",
              "        text-align: right;\n",
              "    }\n",
              "</style>\n",
              "<table border=\"1\" class=\"dataframe\">\n",
              "  <thead>\n",
              "    <tr style=\"text-align: right;\">\n",
              "      <th></th>\n",
              "      <th>Width</th>\n",
              "      <th>Height</th>\n",
              "      <th>Roi.X1</th>\n",
              "      <th>Roi.Y1</th>\n",
              "      <th>Roi.X2</th>\n",
              "      <th>Roi.Y2</th>\n",
              "      <th>ClassId</th>\n",
              "      <th>Path</th>\n",
              "    </tr>\n",
              "  </thead>\n",
              "  <tbody>\n",
              "    <tr>\n",
              "      <th>0</th>\n",
              "      <td>27</td>\n",
              "      <td>26</td>\n",
              "      <td>5</td>\n",
              "      <td>5</td>\n",
              "      <td>22</td>\n",
              "      <td>20</td>\n",
              "      <td>20</td>\n",
              "      <td>Train/20/00020_00000_00000.png</td>\n",
              "    </tr>\n",
              "    <tr>\n",
              "      <th>1</th>\n",
              "      <td>28</td>\n",
              "      <td>27</td>\n",
              "      <td>5</td>\n",
              "      <td>6</td>\n",
              "      <td>23</td>\n",
              "      <td>22</td>\n",
              "      <td>20</td>\n",
              "      <td>Train/20/00020_00000_00001.png</td>\n",
              "    </tr>\n",
              "    <tr>\n",
              "      <th>2</th>\n",
              "      <td>29</td>\n",
              "      <td>26</td>\n",
              "      <td>6</td>\n",
              "      <td>5</td>\n",
              "      <td>24</td>\n",
              "      <td>21</td>\n",
              "      <td>20</td>\n",
              "      <td>Train/20/00020_00000_00002.png</td>\n",
              "    </tr>\n",
              "    <tr>\n",
              "      <th>3</th>\n",
              "      <td>28</td>\n",
              "      <td>27</td>\n",
              "      <td>5</td>\n",
              "      <td>6</td>\n",
              "      <td>23</td>\n",
              "      <td>22</td>\n",
              "      <td>20</td>\n",
              "      <td>Train/20/00020_00000_00003.png</td>\n",
              "    </tr>\n",
              "    <tr>\n",
              "      <th>4</th>\n",
              "      <td>28</td>\n",
              "      <td>26</td>\n",
              "      <td>5</td>\n",
              "      <td>5</td>\n",
              "      <td>23</td>\n",
              "      <td>21</td>\n",
              "      <td>20</td>\n",
              "      <td>Train/20/00020_00000_00004.png</td>\n",
              "    </tr>\n",
              "  </tbody>\n",
              "</table>\n",
              "</div>\n",
              "      <button class=\"colab-df-convert\" onclick=\"convertToInteractive('df-9eee32d0-23b4-48d9-a09c-843ed74b8485')\"\n",
              "              title=\"Convert this dataframe to an interactive table.\"\n",
              "              style=\"display:none;\">\n",
              "        \n",
              "  <svg xmlns=\"http://www.w3.org/2000/svg\" height=\"24px\"viewBox=\"0 0 24 24\"\n",
              "       width=\"24px\">\n",
              "    <path d=\"M0 0h24v24H0V0z\" fill=\"none\"/>\n",
              "    <path d=\"M18.56 5.44l.94 2.06.94-2.06 2.06-.94-2.06-.94-.94-2.06-.94 2.06-2.06.94zm-11 1L8.5 8.5l.94-2.06 2.06-.94-2.06-.94L8.5 2.5l-.94 2.06-2.06.94zm10 10l.94 2.06.94-2.06 2.06-.94-2.06-.94-.94-2.06-.94 2.06-2.06.94z\"/><path d=\"M17.41 7.96l-1.37-1.37c-.4-.4-.92-.59-1.43-.59-.52 0-1.04.2-1.43.59L10.3 9.45l-7.72 7.72c-.78.78-.78 2.05 0 2.83L4 21.41c.39.39.9.59 1.41.59.51 0 1.02-.2 1.41-.59l7.78-7.78 2.81-2.81c.8-.78.8-2.07 0-2.86zM5.41 20L4 18.59l7.72-7.72 1.47 1.35L5.41 20z\"/>\n",
              "  </svg>\n",
              "      </button>\n",
              "      \n",
              "  <style>\n",
              "    .colab-df-container {\n",
              "      display:flex;\n",
              "      flex-wrap:wrap;\n",
              "      gap: 12px;\n",
              "    }\n",
              "\n",
              "    .colab-df-convert {\n",
              "      background-color: #E8F0FE;\n",
              "      border: none;\n",
              "      border-radius: 50%;\n",
              "      cursor: pointer;\n",
              "      display: none;\n",
              "      fill: #1967D2;\n",
              "      height: 32px;\n",
              "      padding: 0 0 0 0;\n",
              "      width: 32px;\n",
              "    }\n",
              "\n",
              "    .colab-df-convert:hover {\n",
              "      background-color: #E2EBFA;\n",
              "      box-shadow: 0px 1px 2px rgba(60, 64, 67, 0.3), 0px 1px 3px 1px rgba(60, 64, 67, 0.15);\n",
              "      fill: #174EA6;\n",
              "    }\n",
              "\n",
              "    [theme=dark] .colab-df-convert {\n",
              "      background-color: #3B4455;\n",
              "      fill: #D2E3FC;\n",
              "    }\n",
              "\n",
              "    [theme=dark] .colab-df-convert:hover {\n",
              "      background-color: #434B5C;\n",
              "      box-shadow: 0px 1px 3px 1px rgba(0, 0, 0, 0.15);\n",
              "      filter: drop-shadow(0px 1px 2px rgba(0, 0, 0, 0.3));\n",
              "      fill: #FFFFFF;\n",
              "    }\n",
              "  </style>\n",
              "\n",
              "      <script>\n",
              "        const buttonEl =\n",
              "          document.querySelector('#df-9eee32d0-23b4-48d9-a09c-843ed74b8485 button.colab-df-convert');\n",
              "        buttonEl.style.display =\n",
              "          google.colab.kernel.accessAllowed ? 'block' : 'none';\n",
              "\n",
              "        async function convertToInteractive(key) {\n",
              "          const element = document.querySelector('#df-9eee32d0-23b4-48d9-a09c-843ed74b8485');\n",
              "          const dataTable =\n",
              "            await google.colab.kernel.invokeFunction('convertToInteractive',\n",
              "                                                     [key], {});\n",
              "          if (!dataTable) return;\n",
              "\n",
              "          const docLinkHtml = 'Like what you see? Visit the ' +\n",
              "            '<a target=\"_blank\" href=https://colab.research.google.com/notebooks/data_table.ipynb>data table notebook</a>'\n",
              "            + ' to learn more about interactive tables.';\n",
              "          element.innerHTML = '';\n",
              "          dataTable['output_type'] = 'display_data';\n",
              "          await google.colab.output.renderOutput(dataTable, element);\n",
              "          const docLink = document.createElement('div');\n",
              "          docLink.innerHTML = docLinkHtml;\n",
              "          element.appendChild(docLink);\n",
              "        }\n",
              "      </script>\n",
              "    </div>\n",
              "  </div>\n",
              "  "
            ]
          },
          "metadata": {},
          "execution_count": 18
        }
      ]
    },
    {
      "cell_type": "code",
      "source": [
        "print(f'Number of classes: {train_df.ClassId.unique().shape[0]}')"
      ],
      "metadata": {
        "colab": {
          "base_uri": "https://localhost:8080/"
        },
        "id": "-RTuBzdkula-",
        "outputId": "b1533b1c-037d-45bc-e06b-b6254296ed51"
      },
      "execution_count": null,
      "outputs": [
        {
          "output_type": "stream",
          "name": "stdout",
          "text": [
            "Number of classes: 43\n"
          ]
        }
      ]
    },
    {
      "cell_type": "code",
      "source": [
        "labels = ['20 km/h', '30 km/h', '50 km/h', '60 km/h', '70 km/h', '80 km/h', '80 km/h end', '100 km/h', '120 km/h', 'No overtaking',\n",
        "               'No overtaking for trucks', 'Crossroad with secondary way', 'Main road', 'Give way', 'Stop', 'Road up', 'Road up for truck', 'No entry',\n",
        "               'Other dangerous', 'Turn left', 'Turn right', 'Winding road', 'Hollow road', 'Slippery road', 'Narrowing road', 'Roadwork', 'Traffic light',\n",
        "               'Pedestrian', 'Children', 'Bike', 'Snow', 'Deer', 'End of the limits', 'Only right', 'Only left', 'Only straight', 'Only straight and right', \n",
        "               'Only straight and left', 'Take right', 'Take left', 'Circle crossroad', 'End of overtaking limit', 'End of overtaking limit for truck']"
      ],
      "metadata": {
        "id": "JP0UaMITuoOd"
      },
      "execution_count": null,
      "outputs": []
    },
    {
      "cell_type": "code",
      "source": [
        "# add column with readable labels\n",
        "train_df['Label'] = train_df['ClassId'].replace(sorted(train_df['ClassId'].unique()), labels)\n",
        "# print updated df\n",
        "train_df.head()"
      ],
      "metadata": {
        "colab": {
          "base_uri": "https://localhost:8080/",
          "height": 206
        },
        "id": "NIjjt4f7upPr",
        "outputId": "ca536f58-8915-4073-8ef1-6da57d479873"
      },
      "execution_count": null,
      "outputs": [
        {
          "output_type": "execute_result",
          "data": {
            "text/plain": [
              "   Width  Height  Roi.X1  Roi.Y1  Roi.X2  Roi.Y2  ClassId  \\\n",
              "0     27      26       5       5      22      20       20   \n",
              "1     28      27       5       6      23      22       20   \n",
              "2     29      26       6       5      24      21       20   \n",
              "3     28      27       5       6      23      22       20   \n",
              "4     28      26       5       5      23      21       20   \n",
              "\n",
              "                             Path       Label  \n",
              "0  Train/20/00020_00000_00000.png  Turn right  \n",
              "1  Train/20/00020_00000_00001.png  Turn right  \n",
              "2  Train/20/00020_00000_00002.png  Turn right  \n",
              "3  Train/20/00020_00000_00003.png  Turn right  \n",
              "4  Train/20/00020_00000_00004.png  Turn right  "
            ],
            "text/html": [
              "\n",
              "  <div id=\"df-895ac0dd-03e7-43cc-b439-482c556c19a4\">\n",
              "    <div class=\"colab-df-container\">\n",
              "      <div>\n",
              "<style scoped>\n",
              "    .dataframe tbody tr th:only-of-type {\n",
              "        vertical-align: middle;\n",
              "    }\n",
              "\n",
              "    .dataframe tbody tr th {\n",
              "        vertical-align: top;\n",
              "    }\n",
              "\n",
              "    .dataframe thead th {\n",
              "        text-align: right;\n",
              "    }\n",
              "</style>\n",
              "<table border=\"1\" class=\"dataframe\">\n",
              "  <thead>\n",
              "    <tr style=\"text-align: right;\">\n",
              "      <th></th>\n",
              "      <th>Width</th>\n",
              "      <th>Height</th>\n",
              "      <th>Roi.X1</th>\n",
              "      <th>Roi.Y1</th>\n",
              "      <th>Roi.X2</th>\n",
              "      <th>Roi.Y2</th>\n",
              "      <th>ClassId</th>\n",
              "      <th>Path</th>\n",
              "      <th>Label</th>\n",
              "    </tr>\n",
              "  </thead>\n",
              "  <tbody>\n",
              "    <tr>\n",
              "      <th>0</th>\n",
              "      <td>27</td>\n",
              "      <td>26</td>\n",
              "      <td>5</td>\n",
              "      <td>5</td>\n",
              "      <td>22</td>\n",
              "      <td>20</td>\n",
              "      <td>20</td>\n",
              "      <td>Train/20/00020_00000_00000.png</td>\n",
              "      <td>Turn right</td>\n",
              "    </tr>\n",
              "    <tr>\n",
              "      <th>1</th>\n",
              "      <td>28</td>\n",
              "      <td>27</td>\n",
              "      <td>5</td>\n",
              "      <td>6</td>\n",
              "      <td>23</td>\n",
              "      <td>22</td>\n",
              "      <td>20</td>\n",
              "      <td>Train/20/00020_00000_00001.png</td>\n",
              "      <td>Turn right</td>\n",
              "    </tr>\n",
              "    <tr>\n",
              "      <th>2</th>\n",
              "      <td>29</td>\n",
              "      <td>26</td>\n",
              "      <td>6</td>\n",
              "      <td>5</td>\n",
              "      <td>24</td>\n",
              "      <td>21</td>\n",
              "      <td>20</td>\n",
              "      <td>Train/20/00020_00000_00002.png</td>\n",
              "      <td>Turn right</td>\n",
              "    </tr>\n",
              "    <tr>\n",
              "      <th>3</th>\n",
              "      <td>28</td>\n",
              "      <td>27</td>\n",
              "      <td>5</td>\n",
              "      <td>6</td>\n",
              "      <td>23</td>\n",
              "      <td>22</td>\n",
              "      <td>20</td>\n",
              "      <td>Train/20/00020_00000_00003.png</td>\n",
              "      <td>Turn right</td>\n",
              "    </tr>\n",
              "    <tr>\n",
              "      <th>4</th>\n",
              "      <td>28</td>\n",
              "      <td>26</td>\n",
              "      <td>5</td>\n",
              "      <td>5</td>\n",
              "      <td>23</td>\n",
              "      <td>21</td>\n",
              "      <td>20</td>\n",
              "      <td>Train/20/00020_00000_00004.png</td>\n",
              "      <td>Turn right</td>\n",
              "    </tr>\n",
              "  </tbody>\n",
              "</table>\n",
              "</div>\n",
              "      <button class=\"colab-df-convert\" onclick=\"convertToInteractive('df-895ac0dd-03e7-43cc-b439-482c556c19a4')\"\n",
              "              title=\"Convert this dataframe to an interactive table.\"\n",
              "              style=\"display:none;\">\n",
              "        \n",
              "  <svg xmlns=\"http://www.w3.org/2000/svg\" height=\"24px\"viewBox=\"0 0 24 24\"\n",
              "       width=\"24px\">\n",
              "    <path d=\"M0 0h24v24H0V0z\" fill=\"none\"/>\n",
              "    <path d=\"M18.56 5.44l.94 2.06.94-2.06 2.06-.94-2.06-.94-.94-2.06-.94 2.06-2.06.94zm-11 1L8.5 8.5l.94-2.06 2.06-.94-2.06-.94L8.5 2.5l-.94 2.06-2.06.94zm10 10l.94 2.06.94-2.06 2.06-.94-2.06-.94-.94-2.06-.94 2.06-2.06.94z\"/><path d=\"M17.41 7.96l-1.37-1.37c-.4-.4-.92-.59-1.43-.59-.52 0-1.04.2-1.43.59L10.3 9.45l-7.72 7.72c-.78.78-.78 2.05 0 2.83L4 21.41c.39.39.9.59 1.41.59.51 0 1.02-.2 1.41-.59l7.78-7.78 2.81-2.81c.8-.78.8-2.07 0-2.86zM5.41 20L4 18.59l7.72-7.72 1.47 1.35L5.41 20z\"/>\n",
              "  </svg>\n",
              "      </button>\n",
              "      \n",
              "  <style>\n",
              "    .colab-df-container {\n",
              "      display:flex;\n",
              "      flex-wrap:wrap;\n",
              "      gap: 12px;\n",
              "    }\n",
              "\n",
              "    .colab-df-convert {\n",
              "      background-color: #E8F0FE;\n",
              "      border: none;\n",
              "      border-radius: 50%;\n",
              "      cursor: pointer;\n",
              "      display: none;\n",
              "      fill: #1967D2;\n",
              "      height: 32px;\n",
              "      padding: 0 0 0 0;\n",
              "      width: 32px;\n",
              "    }\n",
              "\n",
              "    .colab-df-convert:hover {\n",
              "      background-color: #E2EBFA;\n",
              "      box-shadow: 0px 1px 2px rgba(60, 64, 67, 0.3), 0px 1px 3px 1px rgba(60, 64, 67, 0.15);\n",
              "      fill: #174EA6;\n",
              "    }\n",
              "\n",
              "    [theme=dark] .colab-df-convert {\n",
              "      background-color: #3B4455;\n",
              "      fill: #D2E3FC;\n",
              "    }\n",
              "\n",
              "    [theme=dark] .colab-df-convert:hover {\n",
              "      background-color: #434B5C;\n",
              "      box-shadow: 0px 1px 3px 1px rgba(0, 0, 0, 0.15);\n",
              "      filter: drop-shadow(0px 1px 2px rgba(0, 0, 0, 0.3));\n",
              "      fill: #FFFFFF;\n",
              "    }\n",
              "  </style>\n",
              "\n",
              "      <script>\n",
              "        const buttonEl =\n",
              "          document.querySelector('#df-895ac0dd-03e7-43cc-b439-482c556c19a4 button.colab-df-convert');\n",
              "        buttonEl.style.display =\n",
              "          google.colab.kernel.accessAllowed ? 'block' : 'none';\n",
              "\n",
              "        async function convertToInteractive(key) {\n",
              "          const element = document.querySelector('#df-895ac0dd-03e7-43cc-b439-482c556c19a4');\n",
              "          const dataTable =\n",
              "            await google.colab.kernel.invokeFunction('convertToInteractive',\n",
              "                                                     [key], {});\n",
              "          if (!dataTable) return;\n",
              "\n",
              "          const docLinkHtml = 'Like what you see? Visit the ' +\n",
              "            '<a target=\"_blank\" href=https://colab.research.google.com/notebooks/data_table.ipynb>data table notebook</a>'\n",
              "            + ' to learn more about interactive tables.';\n",
              "          element.innerHTML = '';\n",
              "          dataTable['output_type'] = 'display_data';\n",
              "          await google.colab.output.renderOutput(dataTable, element);\n",
              "          const docLink = document.createElement('div');\n",
              "          docLink.innerHTML = docLinkHtml;\n",
              "          element.appendChild(docLink);\n",
              "        }\n",
              "      </script>\n",
              "    </div>\n",
              "  </div>\n",
              "  "
            ]
          },
          "metadata": {},
          "execution_count": 21
        }
      ]
    },
    {
      "cell_type": "code",
      "source": [
        "train_df.shape"
      ],
      "metadata": {
        "colab": {
          "base_uri": "https://localhost:8080/"
        },
        "id": "6SGFXA8Duqaa",
        "outputId": "e9cf1a0b-b049-4c8b-f5c0-5a57990c4ba5"
      },
      "execution_count": null,
      "outputs": [
        {
          "output_type": "execute_result",
          "data": {
            "text/plain": [
              "(39209, 9)"
            ]
          },
          "metadata": {},
          "execution_count": 22
        }
      ]
    },
    {
      "cell_type": "code",
      "source": [
        "base_dir = '/content/datasets/meowmeowmeowmeowmeow/gtsrb-german-traffic-sign/Train'\n",
        "print(base_dir)"
      ],
      "metadata": {
        "colab": {
          "base_uri": "https://localhost:8080/"
        },
        "id": "aP7JOmIqursT",
        "outputId": "3677b425-7c24-40a4-e3a4-f9d00ad4d9ae"
      },
      "execution_count": null,
      "outputs": [
        {
          "output_type": "stream",
          "name": "stdout",
          "text": [
            "/content/datasets/meowmeowmeowmeowmeow/gtsrb-german-traffic-sign/Train\n"
          ]
        }
      ]
    },
    {
      "cell_type": "code",
      "source": [
        "IMAGE_SIZE = 160\n",
        "BATCH_SIZE = 64\n",
        "\n",
        "datagen = tf.keras.preprocessing.image.ImageDataGenerator(\n",
        "    rescale=1./255, \n",
        "    validation_split=0.2) #Normalizing\n",
        "\n",
        "train_generator = datagen.flow_from_directory(\n",
        "    base_dir,\n",
        "    target_size=(IMAGE_SIZE, IMAGE_SIZE),\n",
        "    batch_size=BATCH_SIZE, \n",
        "    subset='training')#dividing image_size, batch_size\n",
        "\n",
        "val_generator = datagen.flow_from_directory(\n",
        "    base_dir,\n",
        "    target_size=(IMAGE_SIZE, IMAGE_SIZE),\n",
        "    batch_size=BATCH_SIZE, \n",
        "    subset='validation')"
      ],
      "metadata": {
        "colab": {
          "base_uri": "https://localhost:8080/"
        },
        "id": "AyKNv_1mvzYm",
        "outputId": "7a88351c-8ad1-407b-cd11-5a49f66b43f9"
      },
      "execution_count": null,
      "outputs": [
        {
          "output_type": "stream",
          "name": "stdout",
          "text": [
            "Found 31368 images belonging to 43 classes.\n",
            "Found 7841 images belonging to 43 classes.\n"
          ]
        }
      ]
    },
    {
      "cell_type": "code",
      "source": [
        "for image_batch, label_batch in train_generator:\n",
        "  break\n",
        "image_batch.shape, label_batch.shape #each image is of size ??x??x??"
      ],
      "metadata": {
        "colab": {
          "base_uri": "https://localhost:8080/"
        },
        "id": "rUt6yoMM2jdQ",
        "outputId": "fa492c5d-2724-4660-d0d4-eef1e7a5e22e"
      },
      "execution_count": null,
      "outputs": [
        {
          "output_type": "execute_result",
          "data": {
            "text/plain": [
              "((64, 160, 160, 3), (64, 43))"
            ]
          },
          "metadata": {},
          "execution_count": 25
        }
      ]
    },
    {
      "cell_type": "code",
      "source": [
        "from time import time\n",
        "#performing same process on the dataset\n",
        "model = tf.keras.Sequential([\n",
        "    hub.KerasLayer(\"https://tfhub.dev/google/imagenet/mobilenet_v1_050_160/feature_vector/5\",\n",
        "                   trainable=False),  # Can be True, see below.\n",
        "    tf.keras.layers.Dense(43, activation='softmax')\n",
        "])\n",
        "model.build([None, 160, 160, 3]) \n",
        "\n",
        "model.summary()"
      ],
      "metadata": {
        "colab": {
          "base_uri": "https://localhost:8080/"
        },
        "id": "7Zx2h0X02oUL",
        "outputId": "81dd263d-56e0-4410-f036-6f099fc99c04"
      },
      "execution_count": null,
      "outputs": [
        {
          "output_type": "stream",
          "name": "stdout",
          "text": [
            "Model: \"sequential\"\n",
            "_________________________________________________________________\n",
            "Layer (type)                 Output Shape              Param #   \n",
            "=================================================================\n",
            "keras_layer (KerasLayer)     multiple                  829536    \n",
            "_________________________________________________________________\n",
            "dense (Dense)                multiple                  22059     \n",
            "=================================================================\n",
            "Total params: 851,595\n",
            "Trainable params: 22,059\n",
            "Non-trainable params: 829,536\n",
            "_________________________________________________________________\n"
          ]
        }
      ]
    },
    {
      "cell_type": "code",
      "source": [
        "model.compile(\n",
        "  optimizer=tf.keras.optimizers.Adam(),\n",
        "  loss='categorical_crossentropy',\n",
        "  metrics=['acc'])"
      ],
      "metadata": {
        "id": "PTn1WD9H2qEc"
      },
      "execution_count": null,
      "outputs": []
    },
    {
      "cell_type": "code",
      "source": [
        "!pip install pyyaml h5py "
      ],
      "metadata": {
        "id": "-Yx0eoym2uYQ"
      },
      "execution_count": null,
      "outputs": []
    },
    {
      "cell_type": "code",
      "source": [
        "# Run model training\n",
        "from time import time\n",
        "#performing same process on the dataset\n",
        "start_opt = time()\n",
        "steps_per_epoch = np.ceil(train_generator.samples/train_generator.batch_size)\n",
        "val_steps_per_epoch = np.ceil(val_generator.samples/val_generator.batch_size)\n",
        "\n",
        "checkpoint_path = \"training_1/cp.ckpt\" ##training saves weights that are done during training\n",
        "checkpoint_dir = os.path.dirname(checkpoint_path)\n",
        "\n",
        "# Create a callback that saves the model's weights\n",
        "cp_callback = tf.keras.callbacks.ModelCheckpoint(filepath=checkpoint_path,\n",
        "                                                 save_weights_only=True,\n",
        "                                                 verbose=1)\n",
        "hist = model.fit(\n",
        "    train_generator, \n",
        "    epochs=30,\n",
        "    verbose=1,\n",
        "    steps_per_epoch=steps_per_epoch,\n",
        "    validation_data=val_generator,\n",
        "    validation_steps=val_steps_per_epoch,\n",
        "    callbacks=[cp_callback]).history\n",
        "finish_opt = time()\n",
        "f\"Execution time with TensorFlow to train: {(finish_opt - start_opt):.2f} s\""
      ],
      "metadata": {
        "colab": {
          "base_uri": "https://localhost:8080/",
          "height": 788
        },
        "id": "rVUWjPMW2usW",
        "outputId": "65576416-6851-4ad2-d76f-e01d6c358ff7"
      },
      "execution_count": null,
      "outputs": [
        {
          "output_type": "stream",
          "name": "stdout",
          "text": [
            "Train for 491.0 steps, validate for 123.0 steps\n",
            "Epoch 1/10\n",
            "489/491 [============================>.] - ETA: 0s - loss: 1.5670 - acc: 0.5754\n",
            "Epoch 00001: saving model to training_1/cp.ckpt\n",
            "491/491 [==============================] - 50s 102ms/step - loss: 1.5638 - acc: 0.5762 - val_loss: 1.5182 - val_acc: 0.5495\n",
            "Epoch 2/10\n",
            "489/491 [============================>.] - ETA: 0s - loss: 0.7528 - acc: 0.8004\n",
            "Epoch 00002: saving model to training_1/cp.ckpt\n",
            "491/491 [==============================] - 46s 93ms/step - loss: 0.7528 - acc: 0.8005 - val_loss: 1.3395 - val_acc: 0.6148\n",
            "Epoch 3/10\n",
            "488/491 [============================>.] - ETA: 0s - loss: 0.5570 - acc: 0.8561\n",
            "Epoch 00003: saving model to training_1/cp.ckpt\n",
            "491/491 [==============================] - 34s 70ms/step - loss: 0.5569 - acc: 0.8559 - val_loss: 1.3003 - val_acc: 0.6304\n",
            "Epoch 4/10\n",
            "490/491 [============================>.] - ETA: 0s - loss: 0.4553 - acc: 0.8818\n",
            "Epoch 00004: saving model to training_1/cp.ckpt\n",
            "491/491 [==============================] - 33s 67ms/step - loss: 0.4555 - acc: 0.8816 - val_loss: 1.2686 - val_acc: 0.6439\n",
            "Epoch 5/10\n",
            "490/491 [============================>.] - ETA: 0s - loss: 0.3896 - acc: 0.8996\n",
            "Epoch 00005: saving model to training_1/cp.ckpt\n",
            "491/491 [==============================] - 33s 66ms/step - loss: 0.3896 - acc: 0.8996 - val_loss: 1.2503 - val_acc: 0.6516\n",
            "Epoch 6/10\n",
            "490/491 [============================>.] - ETA: 0s - loss: 0.3432 - acc: 0.9112\n",
            "Epoch 00006: saving model to training_1/cp.ckpt\n",
            "491/491 [==============================] - 32s 65ms/step - loss: 0.3429 - acc: 0.9112 - val_loss: 1.2536 - val_acc: 0.6546\n",
            "Epoch 7/10\n",
            "488/491 [============================>.] - ETA: 0s - loss: 0.3080 - acc: 0.9198\n",
            "Epoch 00007: saving model to training_1/cp.ckpt\n",
            "491/491 [==============================] - 31s 64ms/step - loss: 0.3078 - acc: 0.9198 - val_loss: 1.2808 - val_acc: 0.6548\n",
            "Epoch 8/10\n",
            "490/491 [============================>.] - ETA: 0s - loss: 0.2804 - acc: 0.9265\n",
            "Epoch 00008: saving model to training_1/cp.ckpt\n",
            "491/491 [==============================] - 32s 64ms/step - loss: 0.2802 - acc: 0.9265 - val_loss: 1.2860 - val_acc: 0.6525\n",
            "Epoch 9/10\n",
            "490/491 [============================>.] - ETA: 0s - loss: 0.2580 - acc: 0.9324\n",
            "Epoch 00009: saving model to training_1/cp.ckpt\n",
            "491/491 [==============================] - 32s 65ms/step - loss: 0.2580 - acc: 0.9324 - val_loss: 1.3028 - val_acc: 0.6574\n",
            "Epoch 10/10\n",
            "488/491 [============================>.] - ETA: 0s - loss: 0.2392 - acc: 0.9375\n",
            "Epoch 00010: saving model to training_1/cp.ckpt\n",
            "491/491 [==============================] - 32s 64ms/step - loss: 0.2392 - acc: 0.9375 - val_loss: 1.3205 - val_acc: 0.6526\n"
          ]
        },
        {
          "output_type": "execute_result",
          "data": {
            "text/plain": [
              "'Execution time with TensorFlow to train: 376.48 s'"
            ],
            "application/vnd.google.colaboratory.intrinsic+json": {
              "type": "string"
            }
          },
          "metadata": {},
          "execution_count": 28
        }
      ]
    },
    {
      "cell_type": "code",
      "source": [
        "prediction = time()\n",
        "final_loss, final_accuracy = model.evaluate(val_generator, steps = val_steps_per_epoch)\n",
        "predictend = time() - prediction\n",
        "f\"Inference time with TensorFlow : {(predictend):.2f} s\""
      ],
      "metadata": {
        "colab": {
          "base_uri": "https://localhost:8080/",
          "height": 53
        },
        "id": "rKXrp7mX2w7Q",
        "outputId": "65702847-e27b-49b4-afa5-820d3d6da163"
      },
      "execution_count": null,
      "outputs": [
        {
          "output_type": "stream",
          "name": "stdout",
          "text": [
            "123/123 [==============================] - 7s 55ms/step - loss: 1.3205 - acc: 0.6526\n"
          ]
        },
        {
          "output_type": "execute_result",
          "data": {
            "text/plain": [
              "'Inference time with TensorFlow : 6.82 s'"
            ],
            "application/vnd.google.colaboratory.intrinsic+json": {
              "type": "string"
            }
          },
          "metadata": {},
          "execution_count": 29
        }
      ]
    },
    {
      "cell_type": "code",
      "source": [
        "model_TF2 = model"
      ],
      "metadata": {
        "id": "QEVRxb_I5IZP"
      },
      "execution_count": null,
      "outputs": []
    },
    {
      "cell_type": "code",
      "source": [
        "model_TF2.save(\"model_TF2\")"
      ],
      "metadata": {
        "colab": {
          "base_uri": "https://localhost:8080/"
        },
        "id": "5YiwfvWr5REM",
        "outputId": "d8db3ed4-71a6-46b6-8364-0fb7202c9aa1"
      },
      "execution_count": null,
      "outputs": [
        {
          "output_type": "stream",
          "name": "stdout",
          "text": [
            "WARNING:tensorflow:From /usr/local/lib/python3.7/dist-packages/tensorflow_core/python/ops/resource_variable_ops.py:1781: calling BaseResourceVariable.__init__ (from tensorflow.python.ops.resource_variable_ops) with constraint is deprecated and will be removed in a future version.\n",
            "Instructions for updating:\n",
            "If using Keras pass *_constraint arguments to layers.\n"
          ]
        },
        {
          "output_type": "stream",
          "name": "stderr",
          "text": [
            "WARNING:tensorflow:From /usr/local/lib/python3.7/dist-packages/tensorflow_core/python/ops/resource_variable_ops.py:1781: calling BaseResourceVariable.__init__ (from tensorflow.python.ops.resource_variable_ops) with constraint is deprecated and will be removed in a future version.\n",
            "Instructions for updating:\n",
            "If using Keras pass *_constraint arguments to layers.\n"
          ]
        },
        {
          "output_type": "stream",
          "name": "stdout",
          "text": [
            "INFO:tensorflow:Assets written to: model_TF2/assets\n"
          ]
        },
        {
          "output_type": "stream",
          "name": "stderr",
          "text": [
            "INFO:tensorflow:Assets written to: model_TF2/assets\n"
          ]
        }
      ]
    },
    {
      "cell_type": "code",
      "source": [
        "inf_time_x_axis = [0, 0, 0, 0]\n",
        "inf_acc_x_axis = [0, 0, 0, 0]\n",
        "x_labels = ['TF2.0', 'FP32', 'FP16', 'INT8']\n",
        "\n",
        "# inf_time_x_axis.append(predictend)\n",
        "# inf_acc_x_axis[0] = final_accuracy"
      ],
      "metadata": {
        "id": "KqXR_5CbWHC2"
      },
      "execution_count": null,
      "outputs": []
    },
    {
      "cell_type": "markdown",
      "source": [
        "# Install TensorFlow-GPU 2.0\n",
        "# Install TensorRT Runtime"
      ],
      "metadata": {
        "id": "CC0dvFMDap29"
      }
    },
    {
      "cell_type": "code",
      "source": [
        "!pip install pillow matplotlib\n",
        "!pip install tensorflow-gpu==2.0.0"
      ],
      "metadata": {
        "id": "ERS7WIY7Yoo1"
      },
      "execution_count": null,
      "outputs": []
    },
    {
      "cell_type": "code",
      "source": [
        "import tensorflow as tf\n",
        "print(\"Tensorflow version: \", tf.version.VERSION)"
      ],
      "metadata": {
        "colab": {
          "base_uri": "https://localhost:8080/"
        },
        "id": "Wv5bFXw6az3M",
        "outputId": "687f47a6-a839-4285-c857-b7fa9b92c1cd"
      },
      "execution_count": null,
      "outputs": [
        {
          "output_type": "stream",
          "name": "stdout",
          "text": [
            "Tensorflow version:  2.0.0\n"
          ]
        }
      ]
    },
    {
      "cell_type": "code",
      "source": [
        "%%bash\n",
        "wget https://developer.download.nvidia.com/compute/machine-learning/repos/ubuntu1804/x86_64/nvidia-machine-learning-repo-ubuntu1804_1.0.0-1_amd64.deb\n",
        "\n",
        "dpkg -i nvidia-machine-learning-repo-*.deb\n",
        "apt-get update\n",
        "\n",
        "sudo apt-get install libnvinfer5"
      ],
      "metadata": {
        "id": "k6CZlTKWa2pd",
        "colab": {
          "base_uri": "https://localhost:8080/"
        },
        "outputId": "a23ff62b-bcb2-4ee0-dcfa-8a1e8e6a0800"
      },
      "execution_count": null,
      "outputs": [
        {
          "output_type": "stream",
          "name": "stdout",
          "text": [
            "(Reading database ... 155650 files and directories currently installed.)\n",
            "Preparing to unpack nvidia-machine-learning-repo-ubuntu1804_1.0.0-1_amd64.deb ...\n",
            "Unpacking nvidia-machine-learning-repo-ubuntu1804 (1.0.0-1) over (1.0.0-1) ...\n",
            "Setting up nvidia-machine-learning-repo-ubuntu1804 (1.0.0-1) ...\n",
            "Hit:1 https://developer.download.nvidia.com/compute/cuda/repos/ubuntu1804/x86_64  InRelease\n",
            "Ign:2 http://developer.download.nvidia.com/compute/machine-learning/repos/ubuntu1804/x86_64  InRelease\n",
            "Hit:3 https://cloud.r-project.org/bin/linux/ubuntu bionic-cran40/ InRelease\n",
            "Hit:4 http://developer.download.nvidia.com/compute/machine-learning/repos/ubuntu1804/x86_64  Release\n",
            "Hit:5 http://archive.ubuntu.com/ubuntu bionic InRelease\n",
            "Hit:6 http://archive.ubuntu.com/ubuntu bionic-updates InRelease\n",
            "Hit:7 http://archive.ubuntu.com/ubuntu bionic-backports InRelease\n",
            "Hit:8 http://ppa.launchpad.net/c2d4u.team/c2d4u4.0+/ubuntu bionic InRelease\n",
            "Hit:9 http://security.ubuntu.com/ubuntu bionic-security InRelease\n",
            "Hit:11 http://ppa.launchpad.net/cran/libgit2/ubuntu bionic InRelease\n",
            "Hit:12 http://ppa.launchpad.net/deadsnakes/ppa/ubuntu bionic InRelease\n",
            "Hit:13 http://ppa.launchpad.net/graphics-drivers/ppa/ubuntu bionic InRelease\n",
            "Reading package lists...\n",
            "Reading package lists...\n",
            "Building dependency tree...\n",
            "Reading state information...\n",
            "libnvinfer5 is already the newest version (5.1.5-1+cuda10.1).\n",
            "The following package was automatically installed and is no longer required:\n",
            "  libnvidia-common-460\n",
            "Use 'sudo apt autoremove' to remove it.\n",
            "0 upgraded, 0 newly installed, 0 to remove and 47 not upgraded.\n"
          ]
        },
        {
          "output_type": "stream",
          "name": "stderr",
          "text": [
            "--2022-05-22 18:17:52--  https://developer.download.nvidia.com/compute/machine-learning/repos/ubuntu1804/x86_64/nvidia-machine-learning-repo-ubuntu1804_1.0.0-1_amd64.deb\n",
            "Resolving developer.download.nvidia.com (developer.download.nvidia.com)... 152.195.19.142\n",
            "Connecting to developer.download.nvidia.com (developer.download.nvidia.com)|152.195.19.142|:443... connected.\n",
            "HTTP request sent, awaiting response... 200 OK\n",
            "Length: 2926 (2.9K) [application/x-deb]\n",
            "Saving to: ‘nvidia-machine-learning-repo-ubuntu1804_1.0.0-1_amd64.deb.2’\n",
            "\n",
            "     0K ..                                                    100%  142M=0s\n",
            "\n",
            "2022-05-22 18:17:52 (142 MB/s) - ‘nvidia-machine-learning-repo-ubuntu1804_1.0.0-1_amd64.deb.2’ saved [2926/2926]\n",
            "\n",
            "W: Target Packages (Packages) is configured multiple times in /etc/apt/sources.list.d/nvidia-machine-learning.list:1 and /etc/apt/sources.list.d/nvidia-ml.list:1\n",
            "W: Target Packages (Packages) is configured multiple times in /etc/apt/sources.list.d/nvidia-machine-learning.list:1 and /etc/apt/sources.list.d/nvidia-ml.list:1\n",
            "W: Target Packages (Packages) is configured multiple times in /etc/apt/sources.list.d/nvidia-machine-learning.list:1 and /etc/apt/sources.list.d/nvidia-ml.list:1\n"
          ]
        }
      ]
    },
    {
      "cell_type": "code",
      "source": [
        "# check TensorRT version\n",
        "print(\"TensorRT version: \")\n",
        "!dpkg -l | grep nvinfer"
      ],
      "metadata": {
        "colab": {
          "base_uri": "https://localhost:8080/"
        },
        "id": "etfS6U1Ka3-4",
        "outputId": "a01dd344-27cb-4fa8-cb68-62bcacee9855"
      },
      "execution_count": null,
      "outputs": [
        {
          "output_type": "stream",
          "name": "stdout",
          "text": [
            "TensorRT version: \n",
            "ii  libnvinfer5                             5.1.5-1+cuda10.1                    amd64        TensorRT runtime libraries\n"
          ]
        }
      ]
    },
    {
      "cell_type": "markdown",
      "source": [
        "# Check Tensor core GPU"
      ],
      "metadata": {
        "id": "4F09d_M-bCpB"
      }
    },
    {
      "cell_type": "code",
      "source": [
        "from tensorflow.python.client import device_lib\n",
        "\n",
        "def check_tensor_core_gpu_present():\n",
        "    local_device_protos = device_lib.list_local_devices()\n",
        "    for line in local_device_protos:\n",
        "        if \"compute capability\" in str(line):\n",
        "            compute_capability = float(line.physical_device_desc.split(\"compute capability: \")[-1])\n",
        "            if compute_capability>=7.0:\n",
        "                return True\n",
        "    \n",
        "print(\"Tensor Core GPU Present:\", check_tensor_core_gpu_present())\n",
        "tensor_core_gpu = check_tensor_core_gpu_present()"
      ],
      "metadata": {
        "colab": {
          "base_uri": "https://localhost:8080/"
        },
        "id": "9xpuZrqYa6ps",
        "outputId": "d2bc200f-7bd1-4e44-fe54-d7a6aab8cba6"
      },
      "execution_count": null,
      "outputs": [
        {
          "output_type": "stream",
          "name": "stdout",
          "text": [
            "Tensor Core GPU Present: None\n"
          ]
        }
      ]
    },
    {
      "cell_type": "markdown",
      "source": [
        "# Importing required libraries"
      ],
      "metadata": {
        "id": "4F3twjpCbNIR"
      }
    },
    {
      "cell_type": "code",
      "source": [
        "from __future__ import absolute_import, division, print_function, unicode_literals\n",
        "import os\n",
        "import time\n",
        "\n",
        "import numpy as np\n",
        "import matplotlib.pyplot as plt\n",
        "\n",
        "import tensorflow as tf\n",
        "from tensorflow import keras\n",
        "from tensorflow.python.compiler.tensorrt import trt_convert as trt\n",
        "from tensorflow.keras.preprocessing import image\n",
        "from tensorflow.python.saved_model import tag_constants"
      ],
      "metadata": {
        "id": "t_W1cE0HbKgE"
      },
      "execution_count": null,
      "outputs": []
    },
    {
      "cell_type": "markdown",
      "source": [
        "# TF2.0 Inference: (model_TF2)"
      ],
      "metadata": {
        "id": "mgObtaBDbcjc"
      }
    },
    {
      "cell_type": "code",
      "source": [
        "model = tf.keras.models.load_model(\"/content/model_TF2\")"
      ],
      "metadata": {
        "id": "FgT4oD--_9bY"
      },
      "execution_count": null,
      "outputs": []
    },
    {
      "cell_type": "code",
      "source": [
        "%cd /content/datasets/meowmeowmeowmeowmeow/gtsrb-german-traffic-sign/test\n",
        "for i in range(4):\n",
        "  img_path = './0000%d.png'%i\n",
        "  img = image.load_img(img_path, target_size=(160, 160))\n",
        "  x = image.img_to_array(img)\n",
        "  x = np.expand_dims(x, axis=0)\n",
        "\n",
        "  preds = model.predict(x)\n",
        "  print(\"prediction shape: \", preds.shape)\n",
        "  classes = np.argmax(preds, axis = 1)\n",
        "  print('Predicted Image class:', labels[int(classes)])\n",
        "  plt.subplot(2,2,i+1)\n",
        "  plt.imshow(img);\n",
        "  plt.axis('off');\n",
        "  plt.title(labels[int(classes)])"
      ],
      "metadata": {
        "colab": {
          "base_uri": "https://localhost:8080/",
          "height": 425
        },
        "id": "taK6TrIibRpC",
        "outputId": "ae12408a-fcaa-4113-8427-8c23c6f6f92a"
      },
      "execution_count": null,
      "outputs": [
        {
          "output_type": "stream",
          "name": "stdout",
          "text": [
            "/content/datasets/meowmeowmeowmeowmeow/gtsrb-german-traffic-sign/test\n",
            "prediction shape:  (1, 43)\n",
            "Predicted Image class: End of the limits\n",
            "prediction shape:  (1, 43)\n",
            "Predicted Image class: Children\n",
            "prediction shape:  (1, 43)\n",
            "Predicted Image class: No overtaking\n",
            "prediction shape:  (1, 43)\n",
            "Predicted Image class: No overtaking\n"
          ]
        },
        {
          "output_type": "display_data",
          "data": {
            "text/plain": [
              "<Figure size 432x288 with 4 Axes>"
            ],
            "image/png": "[encoded data removed]"
          },
          "metadata": {
            "needs_background": "light"
          }
        }
      ]
    },
    {
      "cell_type": "code",
      "source": [
        "%cd /content\n",
        "model_TF2.save(\"model_TF2\")"
      ],
      "metadata": {
        "colab": {
          "base_uri": "https://localhost:8080/"
        },
        "id": "npS7Eh6Jcfj6",
        "outputId": "5eda1d5a-3ee3-4dc4-af8a-6e51899e7526"
      },
      "execution_count": null,
      "outputs": [
        {
          "output_type": "stream",
          "name": "stdout",
          "text": [
            "/content\n",
            "INFO:tensorflow:Assets written to: model_TF2/assets\n"
          ]
        },
        {
          "output_type": "stream",
          "name": "stderr",
          "text": [
            "INFO:tensorflow:Assets written to: model_TF2/assets\n"
          ]
        }
      ]
    },
    {
      "cell_type": "code",
      "source": [
        "!saved_model_cli show --all --dir model_TF2"
      ],
      "metadata": {
        "colab": {
          "base_uri": "https://localhost:8080/"
        },
        "id": "pjiKSpWIeEW8",
        "outputId": "38e9f3ab-fb17-4db2-80a2-c7c47bf8d41d"
      },
      "execution_count": null,
      "outputs": [
        {
          "output_type": "stream",
          "name": "stdout",
          "text": [
            "\n",
            "MetaGraphDef with tag-set: 'serve' contains the following SignatureDefs:\n",
            "\n",
            "signature_def['__saved_model_init_op']:\n",
            "  The given SavedModel SignatureDef contains the following input(s):\n",
            "  The given SavedModel SignatureDef contains the following output(s):\n",
            "    outputs['__saved_model_init_op'] tensor_info:\n",
            "        dtype: DT_INVALID\n",
            "        shape: unknown_rank\n",
            "        name: NoOp\n",
            "  Method name is: \n",
            "\n",
            "signature_def['serving_default']:\n",
            "  The given SavedModel SignatureDef contains the following input(s):\n",
            "    inputs['input_1'] tensor_info:\n",
            "        dtype: DT_FLOAT\n",
            "        shape: (-1, 160, 160, 3)\n",
            "        name: serving_default_input_1:0\n",
            "  The given SavedModel SignatureDef contains the following output(s):\n",
            "    outputs['output_1'] tensor_info:\n",
            "        dtype: DT_FLOAT\n",
            "        shape: (-1, 43)\n",
            "        name: StatefulPartitionedCall:0\n",
            "  Method name is: tensorflow/serving/predict\n"
          ]
        }
      ]
    },
    {
      "cell_type": "code",
      "source": [
        "%cd /content/datasets/meowmeowmeowmeowmeow/gtsrb-german-traffic-sign/test"
      ],
      "metadata": {
        "colab": {
          "base_uri": "https://localhost:8080/"
        },
        "id": "UVzEutEbf1uE",
        "outputId": "4d61adce-fe21-4e51-e970-f6e251285a85"
      },
      "execution_count": null,
      "outputs": [
        {
          "output_type": "stream",
          "name": "stdout",
          "text": [
            "/content/datasets/meowmeowmeowmeowmeow/gtsrb-german-traffic-sign/test\n"
          ]
        }
      ]
    },
    {
      "cell_type": "code",
      "source": [
        "batch_size = 8\n",
        "batched_input = np.zeros((batch_size, 160, 160, 3), dtype=np.float32)\n",
        "\n",
        "for i in range(batch_size):\n",
        "  img_path = './0000%d.png' % (i % 4)\n",
        "  img = image.load_img(img_path, target_size=(160, 160))\n",
        "  x = image.img_to_array(img)\n",
        "  x = np.expand_dims(x, axis=0)\n",
        "  batched_input[i, :] = x\n",
        "batched_input = tf.constant(batched_input)\n",
        "print('batched_input shape: ', batched_input.shape)"
      ],
      "metadata": {
        "colab": {
          "base_uri": "https://localhost:8080/"
        },
        "id": "LBftBpfte7z7",
        "outputId": "2366dff7-f10d-4993-d1cb-f04d664b8320"
      },
      "execution_count": null,
      "outputs": [
        {
          "output_type": "stream",
          "name": "stdout",
          "text": [
            "batched_input shape:  (8, 160, 160, 3)\n"
          ]
        }
      ]
    },
    {
      "cell_type": "code",
      "source": [
        "# Benchmarking throughput\n",
        "import time\n",
        "N_warmup_run = 50\n",
        "N_run = 1000\n",
        "elapsed_time = []\n",
        "\n",
        "for i in range(N_warmup_run):\n",
        "  preds = model.predict(batched_input)\n",
        "\n",
        "st_fullbatch = time.time()\n",
        "\n",
        "for i in range(N_run):\n",
        "  start_time = time.time()\n",
        "  preds = model.predict(batched_input)\n",
        "  end_time = time.time()\n",
        "  elapsed_time = np.append(elapsed_time, end_time - start_time)\n",
        "  if i % 50 == 0:\n",
        "    print('Step {}: {:4.1f}ms'.format(i, (elapsed_time[-50:].mean()) * 1000))\n",
        "\n",
        "t_fullbatch = time.time() - st_fullbatch\n",
        "\n",
        "print('Throughput: {:.0f} images/s'.format(N_run * batch_size / elapsed_time.sum()))\n",
        "print(f'Total Time: {t_fullbatch:.4f}s')"
      ],
      "metadata": {
        "colab": {
          "base_uri": "https://localhost:8080/"
        },
        "id": "3N-tCHjVfx-l",
        "outputId": "68a5f8ad-72ed-4d28-c865-74de34e88e5b"
      },
      "execution_count": null,
      "outputs": [
        {
          "output_type": "stream",
          "name": "stdout",
          "text": [
            "Step 0: 32.7ms\n",
            "Step 50: 37.4ms\n",
            "Step 100: 31.4ms\n",
            "Step 150: 37.7ms\n",
            "Step 200: 29.4ms\n",
            "Step 250: 40.8ms\n",
            "Step 300: 56.7ms\n",
            "Step 350: 31.7ms\n",
            "Step 400: 39.1ms\n",
            "Step 450: 63.1ms\n",
            "Step 500: 82.0ms\n",
            "Step 550: 43.1ms\n",
            "Step 600: 30.0ms\n",
            "Step 650: 31.1ms\n",
            "Step 700: 43.9ms\n",
            "Step 750: 31.1ms\n",
            "Step 800: 32.5ms\n",
            "Step 850: 32.8ms\n",
            "Step 900: 31.7ms\n",
            "Step 950: 31.1ms\n",
            "Throughput: 200 images/s\n",
            "Total Time: 40.1370s\n"
          ]
        }
      ]
    },
    {
      "cell_type": "code",
      "source": [
        "# inf_time_x_axis[0] = t_fullbatch\n",
        "inf_time_x_axis[0] = 40.136964082717896\n",
        "print(inf_time_x_axis)"
      ],
      "metadata": {
        "colab": {
          "base_uri": "https://localhost:8080/"
        },
        "id": "73V_UUQhvrBh",
        "outputId": "6642fa82-4fc2-434a-f29f-db067768040f"
      },
      "execution_count": null,
      "outputs": [
        {
          "output_type": "stream",
          "name": "stdout",
          "text": [
            "[40.136964082717896, 0, 0, 0]\n"
          ]
        }
      ]
    },
    {
      "cell_type": "markdown",
      "source": [
        "# Convert TF2.0 model to TF-TRT FP32 model"
      ],
      "metadata": {
        "id": "9K7MoFtni7Cn"
      }
    },
    {
      "cell_type": "code",
      "source": [
        "print('Converting TF2.0 model to TF-TRT FP32...')\n",
        "conversion_params = trt.DEFAULT_TRT_CONVERSION_PARAMS._replace(\n",
        "    precision_mode=trt.TrtPrecisionMode.FP32,\n",
        "    max_workspace_size_bytes=8000000000\n",
        ")\n",
        "\n",
        "converter = trt.TrtGraphConverterV2(\n",
        "    input_saved_model_dir='/content/model_TF2',\n",
        "    conversion_params=conversion_params\n",
        ")\n",
        "\n",
        "converter.convert()\n",
        "converter.save(output_saved_model_dir='model_TFTRT_FP32')\n",
        "print('Done Converting to TF-TRT FP32')"
      ],
      "metadata": {
        "id": "1DkP9H2NgCz1",
        "colab": {
          "base_uri": "https://localhost:8080/"
        },
        "outputId": "190a3fd1-ecdd-4bb1-d39d-7db4261eae6a"
      },
      "execution_count": null,
      "outputs": [
        {
          "output_type": "stream",
          "name": "stdout",
          "text": [
            "Converting TF2.0 model to TF-TRT FP32...\n",
            "INFO:tensorflow:Linked TensorRT version: (5, 1, 5)\n"
          ]
        },
        {
          "output_type": "stream",
          "name": "stderr",
          "text": [
            "INFO:tensorflow:Linked TensorRT version: (5, 1, 5)\n"
          ]
        },
        {
          "output_type": "stream",
          "name": "stdout",
          "text": [
            "INFO:tensorflow:Loaded TensorRT version: (5, 1, 5)\n"
          ]
        },
        {
          "output_type": "stream",
          "name": "stderr",
          "text": [
            "INFO:tensorflow:Loaded TensorRT version: (5, 1, 5)\n"
          ]
        },
        {
          "output_type": "stream",
          "name": "stdout",
          "text": [
            "INFO:tensorflow:Running against TensorRT version 5.1.5\n"
          ]
        },
        {
          "output_type": "stream",
          "name": "stderr",
          "text": [
            "INFO:tensorflow:Running against TensorRT version 5.1.5\n"
          ]
        },
        {
          "output_type": "stream",
          "name": "stdout",
          "text": [
            "INFO:tensorflow:Assets written to: model_TFTRT_FP32/assets\n"
          ]
        },
        {
          "output_type": "stream",
          "name": "stderr",
          "text": [
            "INFO:tensorflow:Assets written to: model_TFTRT_FP32/assets\n"
          ]
        },
        {
          "output_type": "stream",
          "name": "stdout",
          "text": [
            "Done Converting to TF-TRT FP32\n"
          ]
        }
      ]
    },
    {
      "cell_type": "code",
      "source": [
        "!saved_model_cli show --all --dir model_TFTRT_FP32"
      ],
      "metadata": {
        "id": "45KPC7lsj4PM",
        "colab": {
          "base_uri": "https://localhost:8080/"
        },
        "outputId": "86f7dec4-7113-4d39-f3c7-a89885df418c"
      },
      "execution_count": null,
      "outputs": [
        {
          "output_type": "stream",
          "name": "stdout",
          "text": [
            "\n",
            "MetaGraphDef with tag-set: 'serve' contains the following SignatureDefs:\n",
            "\n",
            "signature_def['__saved_model_init_op']:\n",
            "  The given SavedModel SignatureDef contains the following input(s):\n",
            "  The given SavedModel SignatureDef contains the following output(s):\n",
            "    outputs['__saved_model_init_op'] tensor_info:\n",
            "        dtype: DT_INVALID\n",
            "        shape: unknown_rank\n",
            "        name: NoOp\n",
            "  Method name is: \n",
            "\n",
            "signature_def['serving_default']:\n",
            "  The given SavedModel SignatureDef contains the following input(s):\n",
            "    inputs['input_1'] tensor_info:\n",
            "        dtype: DT_FLOAT\n",
            "        shape: (-1, 160, 160, 3)\n",
            "        name: serving_default_input_1:0\n",
            "  The given SavedModel SignatureDef contains the following output(s):\n",
            "    outputs['output_1'] tensor_info:\n",
            "        dtype: DT_FLOAT\n",
            "        shape: unknown_rank\n",
            "        name: PartitionedCall:0\n",
            "  Method name is: tensorflow/serving/predict\n"
          ]
        }
      ]
    },
    {
      "cell_type": "code",
      "source": [
        "def benchmark_tftrt(input_saved_model):\n",
        "    saved_model_loaded = tf.saved_model.load(input_saved_model, tags=[tag_constants.SERVING])\n",
        "    infer = saved_model_loaded.signatures['serving_default']\n",
        "\n",
        "    N_warmup_run = 50\n",
        "    N_run = 1000\n",
        "    elapsed_time = []\n",
        "\n",
        "\n",
        "\n",
        "    for i in range(N_warmup_run):\n",
        "      labeling = infer(batched_input)\n",
        "    \n",
        "    st_fullbatch = time.time()\n",
        "\n",
        "    for i in range(N_run):\n",
        "      start_time = time.time()\n",
        "      labeling = infer(batched_input)\n",
        "      #prob = labeling['probs'].numpy()\n",
        "      end_time = time.time()\n",
        "      elapsed_time = np.append(elapsed_time, end_time - start_time)\n",
        "      if i % 50 == 0:\n",
        "        print('Step {}: {:4.1f}ms'.format(i, (elapsed_time[-50:].mean()) * 1000))\n",
        "\n",
        "    t_fullbatch = time.time() - st_fullbatch\n",
        "    print('Throughput: {:.0f} images/s'.format(N_run * batch_size / elapsed_time.sum()))\n",
        "    print(f'Total time: {t_fullbatch:.4f}s')\n",
        "    return t_fullbatch"
      ],
      "metadata": {
        "id": "-pvAN3ZWy1WK"
      },
      "execution_count": null,
      "outputs": []
    },
    {
      "cell_type": "code",
      "source": [
        "t_fullbatch = benchmark_tftrt('model_TFTRT_FP32')"
      ],
      "metadata": {
        "colab": {
          "base_uri": "https://localhost:8080/"
        },
        "id": "ZTldanyZzOsZ",
        "outputId": "030fc5d0-7179-40d0-aad2-42c0fb1f83da"
      },
      "execution_count": null,
      "outputs": [
        {
          "output_type": "stream",
          "name": "stdout",
          "text": [
            "Step 0:  1.2ms\n",
            "Step 50:  1.2ms\n",
            "Step 100:  1.2ms\n",
            "Step 150:  1.3ms\n",
            "Step 200:  1.3ms\n",
            "Step 250:  1.5ms\n",
            "Step 300:  1.6ms\n",
            "Step 350:  1.8ms\n",
            "Step 400:  1.6ms\n",
            "Step 450:  1.2ms\n",
            "Step 500:  1.3ms\n",
            "Step 550:  1.2ms\n",
            "Step 600:  1.2ms\n",
            "Step 650:  1.2ms\n",
            "Step 700:  1.3ms\n",
            "Step 750:  1.2ms\n",
            "Step 800:  1.2ms\n",
            "Step 850:  2.1ms\n",
            "Step 900:  2.1ms\n",
            "Step 950:  1.5ms\n",
            "Throughput: 5687 images/s\n",
            "Total time: 1.4388s\n"
          ]
        }
      ]
    },
    {
      "cell_type": "code",
      "source": [
        "# inf_time_x_axis[1] = t_fullbatch\n",
        "inf_time_x_axis[1] = 1.438750982284546\n",
        "print(inf_time_x_axis)"
      ],
      "metadata": {
        "colab": {
          "base_uri": "https://localhost:8080/"
        },
        "id": "45SmxttazeBR",
        "outputId": "1d641444-fc4e-4dc5-9ef4-54d757e40c8a"
      },
      "execution_count": null,
      "outputs": [
        {
          "output_type": "stream",
          "name": "stdout",
          "text": [
            "[40.136964082717896, 1.438750982284546, 0, 0]\n"
          ]
        }
      ]
    },
    {
      "cell_type": "markdown",
      "source": [
        "# Convert TF2.0 model to TF-TRT FP16 model"
      ],
      "metadata": {
        "id": "cjeauhNL1hNG"
      }
    },
    {
      "cell_type": "code",
      "source": [
        "print('Converting TF2.0 model to TF-TRT FP16...')\n",
        "conversion_params = trt.DEFAULT_TRT_CONVERSION_PARAMS._replace(\n",
        "    precision_mode=trt.TrtPrecisionMode.FP16,\n",
        "    max_workspace_size_bytes=8000000000\n",
        ")\n",
        "\n",
        "converter = trt.TrtGraphConverterV2(\n",
        "    input_saved_model_dir='/content/model_TF2',\n",
        "    conversion_params=conversion_params\n",
        ")\n",
        "\n",
        "converter.convert()\n",
        "converter.save(output_saved_model_dir='model_TFTRT_FP16')\n",
        "print('Done Converting to TF-TRT FP16')"
      ],
      "metadata": {
        "colab": {
          "base_uri": "https://localhost:8080/"
        },
        "id": "OZAnXxa31kSz",
        "outputId": "872b145f-8263-4841-ebcf-ec5355ffb985"
      },
      "execution_count": null,
      "outputs": [
        {
          "output_type": "stream",
          "name": "stdout",
          "text": [
            "Converting TF2.0 model to TF-TRT FP16...\n",
            "INFO:tensorflow:Linked TensorRT version: (5, 1, 5)\n"
          ]
        },
        {
          "output_type": "stream",
          "name": "stderr",
          "text": [
            "INFO:tensorflow:Linked TensorRT version: (5, 1, 5)\n"
          ]
        },
        {
          "output_type": "stream",
          "name": "stdout",
          "text": [
            "INFO:tensorflow:Loaded TensorRT version: (5, 1, 5)\n"
          ]
        },
        {
          "output_type": "stream",
          "name": "stderr",
          "text": [
            "INFO:tensorflow:Loaded TensorRT version: (5, 1, 5)\n"
          ]
        },
        {
          "output_type": "stream",
          "name": "stdout",
          "text": [
            "INFO:tensorflow:Running against TensorRT version 5.1.5\n"
          ]
        },
        {
          "output_type": "stream",
          "name": "stderr",
          "text": [
            "INFO:tensorflow:Running against TensorRT version 5.1.5\n"
          ]
        },
        {
          "output_type": "stream",
          "name": "stdout",
          "text": [
            "INFO:tensorflow:Assets written to: model_TFTRT_FP16/assets\n"
          ]
        },
        {
          "output_type": "stream",
          "name": "stderr",
          "text": [
            "INFO:tensorflow:Assets written to: model_TFTRT_FP16/assets\n"
          ]
        },
        {
          "output_type": "stream",
          "name": "stdout",
          "text": [
            "Done Converting to TF-TRT FP16\n"
          ]
        }
      ]
    },
    {
      "cell_type": "code",
      "source": [
        "t_fullbatch = benchmark_tftrt('model_TFTRT_FP16')"
      ],
      "metadata": {
        "colab": {
          "base_uri": "https://localhost:8080/"
        },
        "id": "-bQFS-Z915jT",
        "outputId": "75384777-d29f-4750-9242-dc33ebe3fe28"
      },
      "execution_count": null,
      "outputs": [
        {
          "output_type": "stream",
          "name": "stdout",
          "text": [
            "Step 0:  1.2ms\n",
            "Step 50:  1.3ms\n",
            "Step 100:  1.3ms\n",
            "Step 150:  1.2ms\n",
            "Step 200:  1.4ms\n",
            "Step 250:  1.4ms\n",
            "Step 300:  1.2ms\n",
            "Step 350:  1.2ms\n",
            "Step 400:  1.3ms\n",
            "Step 450:  1.2ms\n",
            "Step 500:  1.2ms\n",
            "Step 550:  1.2ms\n",
            "Step 600:  1.4ms\n",
            "Step 650:  1.2ms\n",
            "Step 700:  1.2ms\n",
            "Step 750:  1.2ms\n",
            "Step 800:  1.2ms\n",
            "Step 850:  1.4ms\n",
            "Step 900:  1.4ms\n",
            "Step 950:  1.4ms\n",
            "Throughput: 6253 images/s\n",
            "Total time: 1.3114s\n"
          ]
        }
      ]
    },
    {
      "cell_type": "code",
      "source": [
        "# inf_time_x_axis[2] = t_fullbatch\n",
        "inf_time_x_axis[2] = 1.311415433883667\n",
        "print(inf_time_x_axis)"
      ],
      "metadata": {
        "colab": {
          "base_uri": "https://localhost:8080/"
        },
        "id": "6gFNXZZd2H3N",
        "outputId": "cda21bf2-f52c-4873-b672-3d6bc066dbca"
      },
      "execution_count": null,
      "outputs": [
        {
          "output_type": "stream",
          "name": "stdout",
          "text": [
            "[40.136964082717896, 1.438750982284546, 1.311415433883667, 0]\n"
          ]
        }
      ]
    },
    {
      "cell_type": "markdown",
      "source": [
        "# Convert TF2.0 model to TF-TRT INT8 model"
      ],
      "metadata": {
        "id": "UUv5aBAy25uI"
      }
    },
    {
      "cell_type": "code",
      "source": [
        "# Restart notebook runtime before proceeding?"
      ],
      "metadata": {
        "id": "SgY9qGtb28QK"
      },
      "execution_count": null,
      "outputs": []
    },
    {
      "cell_type": "code",
      "source": [
        "print('Converting TF2.0 model to TF-TRT INT8...')\n",
        "conversion_params = trt.DEFAULT_TRT_CONVERSION_PARAMS._replace(\n",
        "    precision_mode=trt.TrtPrecisionMode.INT8,\n",
        "    max_workspace_size_bytes=8000000000,\n",
        "    use_calibration=True\n",
        ")\n",
        "\n",
        "converter = trt.TrtGraphConverterV2(\n",
        "    input_saved_model_dir='/content/model_TF2',\n",
        "    conversion_params=conversion_params\n",
        ")\n",
        "\n",
        "def calibration_input_fn():\n",
        "    yield (batched_input, )\n",
        "\n",
        "converter.convert(calibration_input_fn=calibration_input_fn)\n",
        "\n",
        "converter.save(output_saved_model_dir='model_TFTRT_INT8')\n",
        "print('Done Converting to TF-TRT INT8')"
      ],
      "metadata": {
        "colab": {
          "base_uri": "https://localhost:8080/"
        },
        "id": "H5mxYQB23Jqv",
        "outputId": "80eda8fb-6c9f-491c-cafc-472f3ba8740c"
      },
      "execution_count": null,
      "outputs": [
        {
          "output_type": "stream",
          "name": "stdout",
          "text": [
            "Converting TF2.0 model to TF-TRT INT8...\n",
            "INFO:tensorflow:Linked TensorRT version: (5, 1, 5)\n",
            "INFO:tensorflow:Loaded TensorRT version: (5, 1, 5)\n",
            "INFO:tensorflow:Running against TensorRT version 5.1.5\n",
            "WARNING:tensorflow:From /usr/local/lib/python3.7/dist-packages/tensorflow_core/python/ops/resource_variable_ops.py:1781: calling BaseResourceVariable.__init__ (from tensorflow.python.ops.resource_variable_ops) with constraint is deprecated and will be removed in a future version.\n",
            "Instructions for updating:\n",
            "If using Keras pass *_constraint arguments to layers.\n",
            "INFO:tensorflow:Assets written to: model_TFTRT_INT8/assets\n",
            "Done Converting to TF-TRT INT8\n"
          ]
        }
      ]
    },
    {
      "cell_type": "code",
      "source": [
        "t_fullbatch = benchmark_tftrt('model_TFTRT_INT8')"
      ],
      "metadata": {
        "colab": {
          "base_uri": "https://localhost:8080/"
        },
        "id": "MuJJ4LPN3tcx",
        "outputId": "3b6ef12b-79a0-4adf-942b-f07855a5e9e4"
      },
      "execution_count": null,
      "outputs": [
        {
          "output_type": "stream",
          "name": "stdout",
          "text": [
            "Step 0:  1.3ms\n",
            "Step 50:  1.3ms\n",
            "Step 100:  1.3ms\n",
            "Step 150:  1.2ms\n",
            "Step 200:  1.3ms\n",
            "Step 250:  1.3ms\n",
            "Step 300:  1.2ms\n",
            "Step 350:  1.3ms\n",
            "Step 400:  1.3ms\n",
            "Step 450:  1.2ms\n",
            "Step 500:  1.2ms\n",
            "Step 550:  1.4ms\n",
            "Step 600:  1.3ms\n",
            "Step 650:  1.2ms\n",
            "Step 700:  1.2ms\n",
            "Step 750:  1.2ms\n",
            "Step 800:  1.3ms\n",
            "Step 850:  1.2ms\n",
            "Step 900:  1.2ms\n",
            "Step 950:  1.2ms\n",
            "Throughput: 6389 images/s\n",
            "Total time: 1.2854s\n"
          ]
        }
      ]
    },
    {
      "cell_type": "code",
      "source": [
        "# inf_time_x_axis[3] = t_fullbatch\n",
        "inf_time_x_axis[3] = 1.2854244709014893\n",
        "print(inf_time_x_axis)"
      ],
      "metadata": {
        "colab": {
          "base_uri": "https://localhost:8080/"
        },
        "id": "UhRO_Rsm4QSt",
        "outputId": "ca231966-9e23-483a-9f18-8c26335b0843"
      },
      "execution_count": null,
      "outputs": [
        {
          "output_type": "stream",
          "name": "stdout",
          "text": [
            "[40.136964082717896, 1.438750982284546, 1.311415433883667, 1.2854244709014893]\n"
          ]
        }
      ]
    },
    {
      "cell_type": "markdown",
      "source": [
        "# Inference Comparision (1000 images)"
      ],
      "metadata": {
        "id": "nYKnz2V142Ix"
      }
    },
    {
      "cell_type": "code",
      "source": [
        "x_labels = ['TF2.0', 'FP32', 'FP16', 'INT8']"
      ],
      "metadata": {
        "id": "0h91Go6QBPDF"
      },
      "execution_count": null,
      "outputs": []
    },
    {
      "cell_type": "code",
      "source": [
        "import matplotlib.pyplot as plt\n",
        "plt.bar(x_labels, inf_time_x_axis)\n",
        "plt.ylabel('seconds')\n",
        "plt.xlabel('models')\n",
        "plt.title('Inference Comparision')\n",
        "plt.savefig('outputneural_1.pdf')\n",
        "plt.show()\n",
        "# print(\"Performance Speedup: \",(inf_time_x_axix[0])/(inf_time_x_axix[1]))"
      ],
      "metadata": {
        "colab": {
          "base_uri": "https://localhost:8080/",
          "height": 295
        },
        "id": "iJEb64Jm41PI",
        "outputId": "ea14586f-b65b-4282-f436-7037a072208b"
      },
      "execution_count": null,
      "outputs": [
        {
          "output_type": "display_data",
          "data": {
            "text/plain": [
              "<Figure size 432x288 with 1 Axes>"
            ],
            "image/png": "[encoded data removed]"
          },
          "metadata": {
            "needs_background": "light"
          }
        }
      ]
    },
    {
      "cell_type": "code",
      "source": [
        "plt.bar(x_labels[1:], inf_time_x_axis[1:])\n",
        "plt.ylabel('seconds')\n",
        "plt.xlabel('models')\n",
        "plt.title('Inference Comparision')\n",
        "plt.savefig('outputneural_2.pdf')\n",
        "plt.show()"
      ],
      "metadata": {
        "colab": {
          "base_uri": "https://localhost:8080/",
          "height": 295
        },
        "id": "jwRB-V8m5Kd8",
        "outputId": "9b5ef26d-089c-4d03-a211-4728a38d5e86"
      },
      "execution_count": null,
      "outputs": [
        {
          "output_type": "display_data",
          "data": {
            "text/plain": [
              "<Figure size 432x288 with 1 Axes>"
            ],
            "image/png": "[encoded data removed]"
          },
          "metadata": {
            "needs_background": "light"
          }
        }
      ]
    }
  ]
}